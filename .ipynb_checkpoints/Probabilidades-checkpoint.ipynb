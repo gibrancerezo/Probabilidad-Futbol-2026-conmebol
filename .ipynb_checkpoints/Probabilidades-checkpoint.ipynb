{
 "cells": [
  {
   "cell_type": "code",
   "execution_count": 21,
   "id": "a54e540e-e93e-45ca-bd62-1369a0c1f715",
   "metadata": {},
   "outputs": [],
   "source": [
    "import numpy as np\n",
    "import pandas as pd\n",
    "import unicodedata\n"
   ]
  },
  {
   "cell_type": "code",
   "execution_count": 22,
   "id": "d1d209bd-e03f-4a7d-a30c-7a2de84607da",
   "metadata": {},
   "outputs": [],
   "source": [
    "# Función para remover acentos y estandarizar nombres\n",
    "def normalizar_nombre(nombre):\n",
    "    return ''.join(c for c in unicodedata.normalize('NFKD', nombre) if not unicodedata.combining(c))"
   ]
  },
  {
   "cell_type": "code",
   "execution_count": 23,
   "id": "bc5d97ee-1d5b-4081-9a79-7db52a24a026",
   "metadata": {},
   "outputs": [],
   "source": [
    "# Cargar datos\n",
    "posiciones_path = \"C:/temp/Projects/Tabla_posiciones.csv\"\n",
    "partidos_path = \"C:/temp/Projects/PartidosFaltantes.csv\""
   ]
  },
  {
   "cell_type": "code",
   "execution_count": 24,
   "id": "ecfb921a-683a-412f-9b9c-90e106624a90",
   "metadata": {},
   "outputs": [],
   "source": [
    "tabla_posiciones = pd.read_csv(posiciones_path, encoding=\"latin1\")\n",
    "partidos_faltantes = pd.read_csv(partidos_path, encoding=\"latin1\")"
   ]
  },
  {
   "cell_type": "code",
   "execution_count": 25,
   "id": "5122d598-9b83-4d56-a5b3-73c587225cdf",
   "metadata": {},
   "outputs": [],
   "source": [
    "# Extraer equipos y puntos actuales\n",
    "equipos = tabla_posiciones[\"Country\"].tolist()\n",
    "puntos_actuales = dict(zip(tabla_posiciones[\"Country\"], tabla_posiciones[\"PTS\"]))"
   ]
  },
  {
   "cell_type": "code",
   "execution_count": 26,
   "id": "979b88d2-25d3-46af-a7bb-da03b2a3bcbb",
   "metadata": {},
   "outputs": [],
   "source": [
    "# Configuración de simulación\n",
    "num_simulaciones = 10000\n",
    "position_counts = {team: np.zeros(len(equipos)) for team in equipos}\n",
    "classification_counts = {team: {\"Clasificado\": 0, \"Repechaje\": 0, \"Eliminado\": 0} for team in equipos}"
   ]
  },
  {
   "cell_type": "code",
   "execution_count": 27,
   "id": "78a73167-49bc-45ea-8e6f-ca15e21ccf19",
   "metadata": {},
   "outputs": [],
   "source": [
    "def determinar_resultado(goles_local, goles_visitante):\n",
    "    if goles_local > goles_visitante:\n",
    "        return \"L\"\n",
    "    elif goles_local < goles_visitante:\n",
    "        return \"V\"\n",
    "    else:\n",
    "        return \"E\""
   ]
  },
  {
   "cell_type": "code",
   "execution_count": 28,
   "id": "53e3d1db-0ee9-494a-b237-c7c82e176b33",
   "metadata": {},
   "outputs": [
    {
     "name": "stdout",
     "output_type": "stream",
     "text": [
      "['Argentina', 'Ecuador', 'Brasil', 'Uruguay', 'Paraguay', 'Colombia', 'Bolívia', 'Venezuela', 'Perú', 'Chile']\n"
     ]
    }
   ],
   "source": [
    "print(equipos)"
   ]
  },
  {
   "cell_type": "code",
   "execution_count": 29,
   "id": "28da6ac7-c2a3-417d-a5b4-5c51cda26b40",
   "metadata": {},
   "outputs": [],
   "source": [
    "# Simulación de Montecarlo\n",
    "for _ in range(num_simulaciones):\n",
    "    simulated_points = puntos_actuales.copy()\n",
    "    \n",
    "    for _, partido in partidos_faltantes.iterrows():\n",
    "        local, visitante = partido[\"Local\"], partido[\"Visitor\"]\n",
    "        \n",
    "        # Verificar que los equipos existen en la lista de equipos\n",
    "        if local in equipos and visitante in equipos:\n",
    "            goles_local = np.random.choice([0, 1, 2, 3, 4, 5])\n",
    "            goles_visitante = np.random.choice([0, 1, 2, 3, 4, 5])\n",
    "            resultado = determinar_resultado(goles_local, goles_visitante)\n",
    "            \n",
    "            if resultado == \"L\":\n",
    "                simulated_points[local] += 3\n",
    "            elif resultado == \"E\":\n",
    "                simulated_points[local] += 1\n",
    "                simulated_points[visitante] += 1\n",
    "            else:\n",
    "                simulated_points[visitante] += 3\n",
    " "
   ]
  },
  {
   "cell_type": "code",
   "execution_count": 46,
   "id": "d09412e7-4d0d-4346-b307-e9fef70c9e83",
   "metadata": {},
   "outputs": [],
   "source": [
    "  \n",
    "    # Ordenar por puntos\n",
    "    sorted_teams = sorted(simulated_points.items(), key=lambda x: x[1], reverse=True)\n",
    "   \n",
    "    for rank, (team, _) in enumerate(sorted_teams):\n",
    "        position_counts[team][rank] += 1\n",
    "       \n",
    "        # Clasificación\n",
    "        if rank < 6:\n",
    "            classification_counts[team][\"Clasificado\"] += 1\n",
    "        elif rank == 6:\n",
    "            classification_counts[team][\"Repechaje\"] += 1\n",
    "        else:\n",
    "            classification_counts[team][\"Eliminado\"] += 1"
   ]
  },
  {
   "cell_type": "code",
   "execution_count": 48,
   "id": "d279babd-0925-4319-b32a-63fa668fe19a",
   "metadata": {},
   "outputs": [
    {
     "name": "stdout",
     "output_type": "stream",
     "text": [
      "<built-in function sorted>\n"
     ]
    }
   ],
   "source": [
    "\n"
   ]
  },
  {
   "cell_type": "code",
   "execution_count": 44,
   "id": "e3a4f2a4-5ed7-4a32-8980-caa2750c5b9b",
   "metadata": {},
   "outputs": [
    {
     "name": "stdout",
     "output_type": "stream",
     "text": [
      "           Pos 1  Pos 2  Pos 3  Pos 4  Pos 5  Pos 6  Pos 7  Pos 8  Pos 9  \\\n",
      "Argentina   0.01   0.00   0.00   0.00   0.00   0.00   0.00   0.00   0.00   \n",
      "Ecuador     0.00   0.00   0.01   0.00   0.00   0.00   0.00   0.00   0.00   \n",
      "Brasil      0.00   0.00   0.00   0.00   0.01   0.00   0.00   0.00   0.00   \n",
      "Uruguay     0.00   0.00   0.00   0.01   0.00   0.00   0.00   0.00   0.00   \n",
      "Paraguay    0.00   0.01   0.00   0.00   0.00   0.00   0.00   0.00   0.00   \n",
      "Colombia    0.00   0.00   0.00   0.00   0.00   0.01   0.00   0.00   0.00   \n",
      "Bolívia     0.00   0.00   0.00   0.00   0.00   0.00   0.00   0.00   0.00   \n",
      "Venezuela   0.00   0.00   0.00   0.00   0.00   0.00   0.00   0.01   0.00   \n",
      "Perú        0.00   0.00   0.00   0.00   0.00   0.00   0.01   0.00   0.00   \n",
      "Chile       0.00   0.00   0.00   0.00   0.00   0.00   0.00   0.00   0.01   \n",
      "\n",
      "           Pos 10  \n",
      "Argentina    0.00  \n",
      "Ecuador      0.00  \n",
      "Brasil       0.00  \n",
      "Uruguay      0.00  \n",
      "Paraguay     0.00  \n",
      "Colombia     0.00  \n",
      "Bolívia      0.01  \n",
      "Venezuela    0.00  \n",
      "Perú         0.00  \n",
      "Chile        0.00  \n",
      "           Clasificado  Repechaje  Eliminado\n",
      "Argentina         0.01       0.00       0.00\n",
      "Ecuador           0.01       0.00       0.00\n",
      "Brasil            0.01       0.00       0.00\n",
      "Uruguay           0.01       0.00       0.00\n",
      "Paraguay          0.01       0.00       0.00\n",
      "Colombia          0.01       0.00       0.00\n",
      "Bolívia           0.00       0.00       0.01\n",
      "Venezuela         0.00       0.00       0.01\n",
      "Perú              0.00       0.01       0.00\n",
      "Chile             0.00       0.00       0.01\n"
     ]
    }
   ],
   "source": [
    "# Convertir a probabilidades (evitando errores en la división)\n",
    "position_probs = {\n",
    "    team: np.array(counts) / num_simulaciones if num_simulaciones > 0 else np.zeros(len(equipos))\n",
    "    for team, counts in position_counts.items()\n",
    "}\n",
    "\n",
    "classification_probs = {\n",
    "    team: {key: (value / num_simulaciones if num_simulaciones > 0 else 0) for key, value in counts.items()}\n",
    "    for team, counts in classification_counts.items()\n",
    "}\n",
    "\n",
    "# Crear DataFrames\n",
    "df_probs = pd.DataFrame(position_probs, index=[f\"Pos {i+1}\" for i in range(len(equipos))]).T\n",
    "df_classification = pd.DataFrame(classification_probs).T\n",
    "\n",
    "# Mostrar los resultados en porcentaje\n",
    "print(df_probs * 100)\n",
    "print(df_classification * 100)"
   ]
  },
  {
   "cell_type": "code",
   "execution_count": null,
   "id": "96e5569c-95f2-4d05-a360-105364bc1dbe",
   "metadata": {},
   "outputs": [],
   "source": []
  },
  {
   "cell_type": "code",
   "execution_count": null,
   "id": "e13547d5-2932-4b42-97ca-41435d510120",
   "metadata": {},
   "outputs": [],
   "source": []
  }
 ],
 "metadata": {
  "kernelspec": {
   "display_name": "Python [conda env:base] *",
   "language": "python",
   "name": "conda-base-py"
  },
  "language_info": {
   "codemirror_mode": {
    "name": "ipython",
    "version": 3
   },
   "file_extension": ".py",
   "mimetype": "text/x-python",
   "name": "python",
   "nbconvert_exporter": "python",
   "pygments_lexer": "ipython3",
   "version": "3.12.7"
  }
 },
 "nbformat": 4,
 "nbformat_minor": 5
}
