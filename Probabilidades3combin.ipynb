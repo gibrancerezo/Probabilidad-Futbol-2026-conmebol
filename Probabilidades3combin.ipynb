{
 "cells": [
  {
   "cell_type": "code",
   "execution_count": 32,
   "id": "a54e540e-e93e-45ca-bd62-1369a0c1f715",
   "metadata": {},
   "outputs": [],
   "source": [
    "import numpy as np\n",
    "import pandas as pd\n",
    "from itertools import product\n",
    "import unicodedata\n"
   ]
  },
  {
   "cell_type": "code",
   "execution_count": 34,
   "id": "d1d209bd-e03f-4a7d-a30c-7a2de84607da",
   "metadata": {},
   "outputs": [],
   "source": [
    "# Función para remover acentos y estandarizar nombres\n",
    "def normalizar_nombre(nombre):\n",
    "    return ''.join(c for c in unicodedata.normalize('NFKD', nombre) if not unicodedata.combining(c))"
   ]
  },
  {
   "cell_type": "code",
   "execution_count": 36,
   "id": "bc5d97ee-1d5b-4081-9a79-7db52a24a026",
   "metadata": {},
   "outputs": [],
   "source": [
    "# Cargar datos\n",
    "posiciones_path = \"C:/temp/Projects/Tabla_posiciones.csv\"\n",
    "partidos_path = \"C:/temp/Projects/PartidosFaltantes.csv\""
   ]
  },
  {
   "cell_type": "code",
   "execution_count": 38,
   "id": "ecfb921a-683a-412f-9b9c-90e106624a90",
   "metadata": {},
   "outputs": [],
   "source": [
    "tabla_posiciones = pd.read_csv(posiciones_path, encoding=\"latin1\")\n",
    "partidos_faltantes = pd.read_csv(partidos_path, encoding=\"latin1\")"
   ]
  },
  {
   "cell_type": "code",
   "execution_count": 40,
   "id": "96e5569c-95f2-4d05-a360-105364bc1dbe",
   "metadata": {},
   "outputs": [],
   "source": [
    "# Normalizar nombres de equipos\n",
    "tabla_posiciones[\"Country\"] = tabla_posiciones[\"Country\"].apply(normalizar_nombre)\n",
    "partidos_faltantes[\"Local\"] = partidos_faltantes[\"Local\"].apply(normalizar_nombre)\n",
    "partidos_faltantes[\"Visitor\"] = partidos_faltantes[\"Visitor\"].apply(normalizar_nombre)"
   ]
  },
  {
   "cell_type": "code",
   "execution_count": null,
   "id": "e13547d5-2932-4b42-97ca-41435d510120",
   "metadata": {},
   "outputs": [],
   "source": [
    "# Actualizar puntos por el empate 0-0 entre Bolivia y Uruguay\n",
    "#tabla_posiciones.loc[tabla_posiciones[\"Country\"] == \"Bolivia\", \"PTS\"] += 1\n",
    "#tabla_posiciones.loc[tabla_posiciones[\"Country\"] == \"Uruguay\", \"PTS\"] += 1"
   ]
  },
  {
   "cell_type": "code",
   "execution_count": null,
   "id": "a95fba7e-1523-4c55-89ab-810cfb9530ee",
   "metadata": {},
   "outputs": [],
   "source": [
    "# Eliminar el partido ya jugado de los partidos faltantes\n",
    "#partidos_faltantes = partidos_faltantes[~((partidos_faltantes[\"Local\"] == \"Bolivia\") & (partidos_faltantes[\"Visitor\"] == \"Uruguay\"))]\n"
   ]
  },
  {
   "cell_type": "code",
   "execution_count": 42,
   "id": "7b6a8dde-3d56-4c22-9fee-7535eb5d974c",
   "metadata": {},
   "outputs": [],
   "source": [
    "# Extraer equipos y puntos actuales\n",
    "equipos = tabla_posiciones[\"Country\"].tolist()\n",
    "puntos_actuales = dict(zip(tabla_posiciones[\"Country\"], tabla_posiciones[\"PTS\"]))"
   ]
  },
  {
   "cell_type": "code",
   "execution_count": null,
   "id": "3cb01ddc-f4de-4a69-9822-e0aa7d043c8c",
   "metadata": {},
   "outputs": [],
   "source": [
    "# ---------- SIMULACIÓN DE TODAS LAS COMBINACIONES ----------\n",
    "\n",
    "goles_posibles = range(4)  # 0 a 4 goles\n",
    "partidos_restantes = list(zip(partidos_faltantes[\"Local\"], partidos_faltantes[\"Visitor\"]))\n",
    "num_partidos = len(partidos_restantes)"
   ]
  },
  {
   "cell_type": "code",
   "execution_count": null,
   "id": "266f6df6-a557-48de-928d-25d7834ba563",
   "metadata": {},
   "outputs": [],
   "source": [
    "# Generar combinaciones de goles para todos los partidos\n",
    "combinaciones_goles = product(goles_posibles, repeat=2 * num_partidos)\n"
   ]
  },
  {
   "cell_type": "code",
   "execution_count": null,
   "id": "ef7f40ab-8241-47b9-8591-fc820c33f2be",
   "metadata": {},
   "outputs": [],
   "source": [
    "# Contadores\n",
    "position_counts = {team: np.zeros(len(equipos)) for team in equipos}\n",
    "classification_counts = {team: {\"Clasificado\": 0, \"Repechaje\": 0, \"Eliminado\": 0} for team in equipos}\n",
    "\n",
    "total_combinaciones = 0\n",
    "\n",
    "for goles_comb in combinaciones_goles:\n",
    "    total_combinaciones += 1\n",
    "    puntos = puntos_actuales.copy()\n",
    "    dif_goles = {team: 0 for team in equipos}\n",
    "\n",
    "    for i, (local, visitante) in enumerate(partidos_restantes):\n",
    "        gl = goles_comb[2 * i]\n",
    "        gv = goles_comb[2 * i + 1]\n",
    "\n",
    "        dif_goles[local] += gl - gv\n",
    "        dif_goles[visitante] += gv - gl\n",
    "\n",
    "        if gl > gv:\n",
    "            puntos[local] += 3\n",
    "        elif gl < gv:\n",
    "            puntos[visitante] += 3\n",
    "        else:\n",
    "            puntos[local] += 1\n",
    "            puntos[visitante] += 1\n",
    "\n",
    "    ordenados = sorted(puntos.items(), key=lambda x: (x[1], dif_goles[x[0]]), reverse=True)\n",
    "\n",
    "    for pos, (team, _) in enumerate(ordenados):\n",
    "        position_counts[team][pos] += 1\n",
    "        if pos < 6:\n",
    "            classification_counts[team][\"Clasificado\"] += 1\n",
    "        elif pos == 6:\n",
    "            classification_counts[team][\"Repechaje\"] += 1\n",
    "        else:\n",
    "            classification_counts[team][\"Eliminado\"] += 1\n"
   ]
  },
  {
   "cell_type": "code",
   "execution_count": null,
   "id": "76923b1e-9489-4e97-b392-df998e777fed",
   "metadata": {},
   "outputs": [],
   "source": [
    "# ---------- RESULTADOS ----------\n",
    "\n",
    "# Probabilidades de posición\n",
    "df_posiciones = pd.DataFrame({\n",
    "    team: counts / total_combinaciones * 100\n",
    "    for team, counts in position_counts.items()\n",
    "}, index=[f\"Pos {i+1}\" for i in range(len(equipos))]).T.round(2)\n",
    "\n",
    "# Probabilidades de clasificación\n",
    "df_clasificacion = pd.DataFrame({\n",
    "    team: {\n",
    "        k: v / total_combinaciones * 100\n",
    "        for k, v in counts.items()\n",
    "    } for team, counts in classification_counts.items()\n",
    "}).T.round(2)\n"
   ]
  },
  {
   "cell_type": "code",
   "execution_count": null,
   "id": "d807096a-68c4-4ed9-8fec-e265b51e0a3c",
   "metadata": {},
   "outputs": [],
   "source": [
    "# Mostrar\n",
    "print(\"\\n=== Probabilidades por Posición (%) ===\")\n",
    "print(df_posiciones)\n",
    "print(\"\\n=== Probabilidades de Clasificación (%) ===\")\n",
    "print(df_clasificacion)"
   ]
  },
  {
   "cell_type": "code",
   "execution_count": null,
   "id": "2edad30d-805e-48cd-9248-82bd85993b89",
   "metadata": {},
   "outputs": [],
   "source": [
    "import matplotlib.pyplot as plt\n",
    "\n",
    "# ----- GRÁFICO 1: Probabilidades por posición (barras apiladas) -----\n",
    "df_posiciones_sorted = df_posiciones.loc[df_posiciones.sum(axis=1).sort_values(ascending=True).index]\n",
    "\n",
    "ax = df_posiciones_sorted.plot(kind='bar', stacked=True, figsize=(14, 6), colormap='tab10')\n",
    "plt.title(\"Probabilidades por Posición (%)\")\n",
    "plt.ylabel(\"Porcentaje\")\n",
    "plt.xlabel(\"Equipo\")\n",
    "plt.legend(title=\"Posición\", bbox_to_anchor=(1.05, 1), loc='upper left')\n",
    "plt.tight_layout()\n",
    "plt.grid(True, axis='y')\n",
    "plt.show()\n",
    "\n",
    "# ----- GRÁFICO 2: Clasificación (barras agrupadas) -----\n",
    "df_clasificacion_sorted = df_clasificacion.loc[df_posiciones_sorted.index]\n",
    "\n",
    "df_clasificacion_sorted.plot(kind=\"bar\", figsize=(14, 6), colormap=\"Set2\")\n",
    "plt.title(\"Probabilidades de Clasificación (%)\")\n",
    "plt.ylabel(\"Porcentaje\")\n",
    "plt.xlabel(\"Equipo\")\n",
    "plt.xticks(rotation=45)\n",
    "plt.grid(True, axis='y')\n",
    "plt.tight_layout()\n",
    "plt.show()"
   ]
  },
  {
   "cell_type": "code",
   "execution_count": null,
   "id": "f173d66b-d3f0-4c2d-a248-4d4d88314fb7",
   "metadata": {},
   "outputs": [],
   "source": []
  }
 ],
 "metadata": {
  "kernelspec": {
   "display_name": "Python [conda env:base] *",
   "language": "python",
   "name": "conda-base-py"
  },
  "language_info": {
   "codemirror_mode": {
    "name": "ipython",
    "version": 3
   },
   "file_extension": ".py",
   "mimetype": "text/x-python",
   "name": "python",
   "nbconvert_exporter": "python",
   "pygments_lexer": "ipython3",
   "version": "3.12.7"
  }
 },
 "nbformat": 4,
 "nbformat_minor": 5
}
